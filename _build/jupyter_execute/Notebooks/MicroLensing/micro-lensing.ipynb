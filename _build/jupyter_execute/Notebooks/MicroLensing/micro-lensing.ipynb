{
 "cells": [
  {
   "cell_type": "markdown",
   "id": "5f23d9b4",
   "metadata": {},
   "source": [
    "# Stellar micro-lensing simulation\n",
    "\n",
    "In this notebook, we simulate and animate stellar micro-lensing events.\n",
    "Lentstronomy does not perform any approximations to speed up the calculation and is capable to compute micro-lensing events of arbitrary complexities"
   ]
  },
  {
   "cell_type": "code",
   "execution_count": 25,
   "id": "ed3976da",
   "metadata": {},
   "outputs": [],
   "source": [
    "import matplotlib.pyplot as plt\n",
    "%matplotlib inline\n",
    "import numpy as np"
   ]
  },
  {
   "cell_type": "code",
   "execution_count": 26,
   "id": "0c87b1d9",
   "metadata": {},
   "outputs": [],
   "source": [
    "# define the microlens\n",
    "\n",
    "# =========\n",
    "# distances\n",
    "# =========\n",
    "\n",
    "d_l = 4000  # distance of the lens in pc\n",
    "d_s = 8000  # distance of the source in pc\n",
    "\n",
    "# ===========\n",
    "# lens system\n",
    "# ===========\n",
    "\n",
    "M0 = 0.01  # mass of the main lens in units of M_sol\n",
    "\n",
    "M1 = 0.01  # secondary mass of the lens\n",
    "d_01 = 1  # distance of M0 to M1 in units of AU\n",
    "\n",
    "# ===========\n",
    "# source size\n",
    "# ===========\n",
    "\n",
    "diameter_s = 1  # size of the radius of the source star in units of the solar radius\n"
   ]
  },
  {
   "cell_type": "code",
   "execution_count": 27,
   "id": "762f9c65",
   "metadata": {},
   "outputs": [
    {
     "name": "stdout",
     "output_type": "stream",
     "text": [
      "0.00010090910723578977 Einstein radius [arc seconds]\n",
      "1.163118159836867e-06 source size in arc seconds\n"
     ]
    }
   ],
   "source": [
    "# compute lensing properties\n",
    "from lenstronomy.Cosmo.micro_lensing import einstein_radius, source_size\n",
    "\n",
    "theta_E = einstein_radius(M0, d_l, d_s)\n",
    "print(theta_E, 'Einstein radius [arc seconds]')\n",
    "\n",
    "size_s = source_size(diameter_s, d_s)\n",
    "print(size_s, 'source size in arc seconds')"
   ]
  },
  {
   "cell_type": "code",
   "execution_count": 28,
   "id": "4bf53df0",
   "metadata": {},
   "outputs": [
    {
     "name": "stdout",
     "output_type": "stream",
     "text": [
      "1388\n"
     ]
    }
   ],
   "source": [
    "# compute ray-tracing grid\n",
    "\n",
    "grid_scale = size_s / 4.  # ten times the source size resolution\n",
    "grid_width = theta_E * 4\n",
    "num_pix = int(grid_width / grid_scale)\n",
    "print(num_pix)\n",
    "\n",
    "from lenstronomy.Util import util\n",
    "x, y = util.make_grid(numPix=num_pix, deltapix=grid_scale)"
   ]
  },
  {
   "cell_type": "code",
   "execution_count": 33,
   "id": "673f797c",
   "metadata": {},
   "outputs": [
    {
     "name": "stdout",
     "output_type": "stream",
     "text": [
      "48431980372919.234\n"
     ]
    }
   ],
   "source": [
    "# map image to source plane\n",
    "from lenstronomy.LensModel.lens_model import LensModel\n",
    "lens = LensModel(lens_model_list=['POINT_MASS'])\n",
    "kwargs_lens = [{'theta_E': theta_E, 'center_x': 0, 'center_y': 0}]\n",
    "\n",
    "beta_x, beta_y = lens.ray_shooting(x, y, kwargs=kwargs_lens)\n",
    "\n",
    "# compute surface brightness\n",
    "from lenstronomy.LightModel.light_model import LightModel\n",
    "ligth = LightModel(light_model_list=['ELLIPSOID'])\n",
    "kwargs_light = [{'amp': 1, 'radius': size_s/2 * 10, 'e1': 0, 'e2': 0, 'center_x': 0 + theta_E/4, 'center_y': 0}]\n",
    "\n",
    "surface_brightness = ligth.surface_brightness(beta_x, beta_y, kwargs_light)\n",
    "print(np.sum(surface_brightness))\n",
    "\n",
    "image = util.array2image(surface_brightness)\n"
   ]
  },
  {
   "cell_type": "code",
   "execution_count": 34,
   "id": "c431dd30",
   "metadata": {},
   "outputs": [
    {
     "data": {
      "image/png": "[encoded data removed]",
      "text/plain": [
       "<Figure size 432x288 with 2 Axes>"
      ]
     },
     "metadata": {
      "needs_background": "light"
     },
     "output_type": "display_data"
    }
   ],
   "source": [
    "plt.imshow(image)\n",
    "plt.colorbar()\n",
    "plt.show()"
   ]
  },
  {
   "cell_type": "code",
   "execution_count": null,
   "id": "dc003be9",
   "metadata": {},
   "outputs": [],
   "source": []
  }
 ],
 "metadata": {
  "kernelspec": {
   "display_name": "Python [conda env:lenstronomy] *",
   "language": "python",
   "name": "conda-env-lenstronomy-py"
  },
  "language_info": {
   "codemirror_mode": {
    "name": "ipython",
    "version": 3
   },
   "file_extension": ".py",
   "mimetype": "text/x-python",
   "name": "python",
   "nbconvert_exporter": "python",
   "pygments_lexer": "ipython3",
   "version": "3.9.7"
  }
 },
 "nbformat": 4,
 "nbformat_minor": 5
}